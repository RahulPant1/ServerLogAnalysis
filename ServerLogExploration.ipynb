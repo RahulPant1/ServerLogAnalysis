{
 "cells": [
  {
   "cell_type": "code",
   "execution_count": 1,
   "metadata": {
    "collapsed": true
   },
   "outputs": [],
   "source": [
    "import os\n",
    "import glob\n",
    "import pandas as pd\n",
    "import numpy as np\n",
    "import re\n",
    "from calendar import month_name , month_abbr\n",
    "import multiprocessing\n",
    "import nltk\n",
    "from nltk import sentiment\n",
    "import matplotlib.pyplot as plt\n",
    "from nltk.corpus import words\n",
    "from nltk.corpus import wordnet as wn\n",
    "from nltk.stem import *\n",
    "from nltk.stem import WordNetLemmatizer\n",
    "#for filename in os.listdir(os.getcwd()):\n",
    "   # do your stuff"
   ]
  },
  {
   "cell_type": "code",
   "execution_count": 2,
   "metadata": {
    "collapsed": true
   },
   "outputs": [],
   "source": [
    "#os.path.isdir(dirList[10])\n",
    "working_dir =\"/root/home/anaconda2/bin/Python-Learning/RP/anomaly/Junk\"\n",
    "file_list = []\n",
    "dir_list = []\n",
    "for root, dirs, files in os.walk(working_dir):\n",
    "    for filename in files:\n",
    "        if filename== \"secure\":\n",
    "            file_list.append(os.path.join(root, filename)) \n",
    "            dir_list.append(root)\n",
    "    review_file = [open(file,'r').read() for file in file_list]\n"
   ]
  },
  {
   "cell_type": "code",
   "execution_count": 3,
   "metadata": {
    "collapsed": true
   },
   "outputs": [],
   "source": [
    "temp=[[t.replace('/root/home/anaconda2/bin/Python-Learning/RP/anomaly/Junk/','') for t in dir_list]]\n",
    "#temp"
   ]
  },
  {
   "cell_type": "code",
   "execution_count": 4,
   "metadata": {
    "collapsed": true
   },
   "outputs": [],
   "source": [
    "newDF = pd.DataFrame(columns=['folder','content'])\n",
    "finalDF= pd.DataFrame(columns=['folder','content'])"
   ]
  },
  {
   "cell_type": "code",
   "execution_count": 5,
   "metadata": {},
   "outputs": [
    {
     "name": "stdout",
     "output_type": "stream",
     "text": [
      "(807336, 2)\n"
     ]
    }
   ],
   "source": [
    "#Created a dataframe from input values by adding the content and folder name\n",
    "for i in range(len(review_file)):\n",
    "    newDF = pd.DataFrame(columns=['folder','content'])\n",
    "    tempdf = pd.Series( (v for v in review_file[i].splitlines()))\n",
    "    newDF['content']=tempdf\n",
    "    newDF['folder']=temp[0][i]\n",
    "    if newDF.shape[0] !=0:\n",
    "        finalDF=finalDF.append(newDF,ignore_index=True)\n",
    "print finalDF.shape"
   ]
  },
  {
   "cell_type": "code",
   "execution_count": 6,
   "metadata": {},
   "outputs": [
    {
     "data": {
      "text/html": [
       "<div>\n",
       "<style>\n",
       "    .dataframe thead tr:only-child th {\n",
       "        text-align: right;\n",
       "    }\n",
       "\n",
       "    .dataframe thead th {\n",
       "        text-align: left;\n",
       "    }\n",
       "\n",
       "    .dataframe tbody tr th {\n",
       "        vertical-align: top;\n",
       "    }\n",
       "</style>\n",
       "<table border=\"1\" class=\"dataframe\">\n",
       "  <thead>\n",
       "    <tr style=\"text-align: right;\">\n",
       "      <th></th>\n",
       "      <th>folder</th>\n",
       "      <th>content</th>\n",
       "    </tr>\n",
       "  </thead>\n",
       "  <tbody>\n",
       "    <tr>\n",
       "      <th>0</th>\n",
       "      <td>abc-he-orclgg03.pl.lab.uprising.t-mobile.com</td>\n",
       "      <td>Apr 15 03:40:09 abc-he-orclgg03 sshd[12653]: A...</td>\n",
       "    </tr>\n",
       "    <tr>\n",
       "      <th>1</th>\n",
       "      <td>abc-he-orclgg03.pl.lab.uprising.t-mobile.com</td>\n",
       "      <td>Apr 15 03:40:10 abc-he-orclgg03 sshd[12653]: p...</td>\n",
       "    </tr>\n",
       "    <tr>\n",
       "      <th>2</th>\n",
       "      <td>abc-he-orclgg03.pl.lab.uprising.t-mobile.com</td>\n",
       "      <td>Apr 15 03:40:10 abc-he-orclgg03 sshd[12663]: p...</td>\n",
       "    </tr>\n",
       "    <tr>\n",
       "      <th>3</th>\n",
       "      <td>abc-he-orclgg03.pl.lab.uprising.t-mobile.com</td>\n",
       "      <td>Apr 15 03:40:10 abc-he-orclgg03 sshd[12659]: p...</td>\n",
       "    </tr>\n",
       "    <tr>\n",
       "      <th>4</th>\n",
       "      <td>abc-he-orclgg03.pl.lab.uprising.t-mobile.com</td>\n",
       "      <td>Apr 15 03:40:11 abc-he-orclgg03 sshd[12663]: p...</td>\n",
       "    </tr>\n",
       "  </tbody>\n",
       "</table>\n",
       "</div>"
      ],
      "text/plain": [
       "                                         folder  \\\n",
       "0  abc-he-orclgg03.pl.lab.uprising.t-mobile.com   \n",
       "1  abc-he-orclgg03.pl.lab.uprising.t-mobile.com   \n",
       "2  abc-he-orclgg03.pl.lab.uprising.t-mobile.com   \n",
       "3  abc-he-orclgg03.pl.lab.uprising.t-mobile.com   \n",
       "4  abc-he-orclgg03.pl.lab.uprising.t-mobile.com   \n",
       "\n",
       "                                             content  \n",
       "0  Apr 15 03:40:09 abc-he-orclgg03 sshd[12653]: A...  \n",
       "1  Apr 15 03:40:10 abc-he-orclgg03 sshd[12653]: p...  \n",
       "2  Apr 15 03:40:10 abc-he-orclgg03 sshd[12663]: p...  \n",
       "3  Apr 15 03:40:10 abc-he-orclgg03 sshd[12659]: p...  \n",
       "4  Apr 15 03:40:11 abc-he-orclgg03 sshd[12663]: p...  "
      ]
     },
     "execution_count": 6,
     "metadata": {},
     "output_type": "execute_result"
    }
   ],
   "source": [
    "#finalDF.to_csv(\"tempdummy.csv\")\n",
    "finalDF.head()"
   ]
  },
  {
   "cell_type": "code",
   "execution_count": 7,
   "metadata": {
    "collapsed": true
   },
   "outputs": [],
   "source": [
    "mnth_search='|'.join(month_abbr[1:])"
   ]
  },
  {
   "cell_type": "markdown",
   "metadata": {
    "collapsed": true
   },
   "source": [
    "Functions Used For Extraction"
   ]
  },
  {
   "cell_type": "code",
   "execution_count": 8,
   "metadata": {
    "collapsed": true
   },
   "outputs": [],
   "source": [
    "def month(x,mnth_search):\n",
    "    # let's create a function that squares every value in the dataframe\n",
    "        m=re.match(mnth_search, x)\n",
    "        value=0\n",
    "        if m:\n",
    "            value=m.group()\n",
    "        return value\n",
    "\n",
    "#myregex=\"(\"+mnth_search + \")\\s+(\\d+)\\s+(\\d+:\\d+:\\d+)\\s+([^\\s]+)\\s(\\w+)\"\n",
    "\n",
    "myregex=\"(\"+mnth_search + \")\\s+(\\d+)\\s+(\\d+:\\d+:\\d+)\\s+([^\\s]+)\\s(\\w+).*\"\n",
    "def month_date_time_foldname_oper(x,myregex):\n",
    "        m=re.match(myregex,x)\n",
    "        month=0\n",
    "        day=0\n",
    "        time=0\n",
    "        oper=None\n",
    "        foldname=None\n",
    "        #ip=None\n",
    "        if m:\n",
    "            month=m.group(1)\n",
    "            day=m.group(2)\n",
    "            time=m.group(3)\n",
    "            foldname=m.group(4)\n",
    "            oper=[m.group(5) if m.group(5) else None]\n",
    "            #ip=[m.group(6) if m.group(6) else None]\n",
    "            \n",
    "        return (month,day,time,foldname,oper)\n",
    "\n",
    "#Check if word 'user' occurs and then get the user name\n",
    "user_reg=\".*(?i)user=([a-zA-Z_@]+)|.*(?i)user\\s+([a-zA-Z_@()]+)\"\n",
    "def user_check(x,myregex):\n",
    "    user = None\n",
    "    m = re.match(myregex,x)\n",
    "    if m:\n",
    "        user= m.group(1) if m.group(1)!=None else m.group(2)\n",
    "    return user\n",
    "\n",
    "#Check existence of slef-defined critical words \n",
    "def critical_words(x):\n",
    "    match=re.findall(r\"(?i)\\binvalid\\b|\\berror\\b|\\bfailure\\b|\\bfailed\\b|\\bunregistered\\b|\\bwarn\\b\", x)\n",
    "    return match"
   ]
  },
  {
   "cell_type": "code",
   "execution_count": 9,
   "metadata": {
    "collapsed": true
   },
   "outputs": [],
   "source": [
    "#Add Month Day and Time\n",
    "finalDF['Mon_Day_Time']=finalDF['content'].apply(lambda x: month_date_time_foldname_oper(x,myregex))\n"
   ]
  },
  {
   "cell_type": "markdown",
   "metadata": {},
   "source": [
    "Adding the extracted data as separate column in dataframe"
   ]
  },
  {
   "cell_type": "code",
   "execution_count": 10,
   "metadata": {
    "collapsed": true
   },
   "outputs": [],
   "source": [
    "#Unpacking the tuple\n",
    "new_col_list = ['Month','Date','Time','FoldName','Oper']\n",
    "for n,col in enumerate(new_col_list):\n",
    "    finalDF[col] = finalDF['Mon_Day_Time'].apply(lambda x: x[n])\n",
    "#finalDF = finalDF.drop('Mon_Day_Time',axis=1)"
   ]
  },
  {
   "cell_type": "code",
   "execution_count": 11,
   "metadata": {
    "collapsed": true
   },
   "outputs": [],
   "source": [
    "#Add username as additional column\n",
    "finalDF['User']=finalDF['content'].apply(lambda x: user_check(x,user_reg))\n",
    "\n",
    "#Add Critical WOrds identified in each row as separate column\n",
    "finalDF['Critical_Words']=finalDF['content'].apply(lambda x: critical_words(x))"
   ]
  },
  {
   "cell_type": "markdown",
   "metadata": {
    "collapsed": true
   },
   "source": [
    "Break critical words into different columns"
   ]
  },
  {
   "cell_type": "code",
   "execution_count": 12,
   "metadata": {
    "collapsed": true
   },
   "outputs": [],
   "source": [
    "#Break critical words into different columns\n",
    "def critical_words_unpack(temp):\n",
    "    failure=failed=error=invalid=warn=unregistered=None\n",
    "    if len(temp)!=0:\n",
    "        for a,x in enumerate(temp):\n",
    "            if x=='failure':\n",
    "                failure=True\n",
    "            elif x=='failed':\n",
    "                failed=True\n",
    "            elif x=='error':\n",
    "                error=True\n",
    "            elif x=='invalid':\n",
    "                invalid=True\n",
    "            elif x=='warn':\n",
    "                warn=True\n",
    "            elif x=='unregistered':\n",
    "                unregistered=True\n",
    "    return (failure, failed,error,invalid,warn,unregistered)"
   ]
  },
  {
   "cell_type": "code",
   "execution_count": 13,
   "metadata": {
    "collapsed": true
   },
   "outputs": [],
   "source": [
    "temp=finalDF['Critical_Words'].apply(lambda x: critical_words_unpack(x))\n",
    "#Unpacking the tuple for critical words\n",
    "new_col_list = ['failure','failed','error','invalid','warn','unregistered']\n",
    "for n,col in enumerate(new_col_list):\n",
    "    finalDF[col] = temp.apply(lambda x: x[n])"
   ]
  },
  {
   "cell_type": "code",
   "execution_count": 15,
   "metadata": {},
   "outputs": [
    {
     "data": {
      "text/plain": [
       "svc_slr_scpt@lab    43240\n",
       "errobi                 71\n",
       "mapr                    5\n",
       "(mapr)                  3\n",
       "Name: User, dtype: int64"
      ]
     },
     "execution_count": 15,
     "metadata": {},
     "output_type": "execute_result"
    }
   ],
   "source": [
    "finalDF[finalDF['Critical_Words'].str.len()!=0]['User'].value_counts()\n"
   ]
  },
  {
   "cell_type": "markdown",
   "metadata": {},
   "source": [
    "Also check manually for few specific errors"
   ]
  },
  {
   "cell_type": "code",
   "execution_count": 16,
   "metadata": {
    "collapsed": true
   },
   "outputs": [],
   "source": [
    "#Category of Occurence of some anomaly like\n",
    "#Password check fail\n",
    "#authentication failure\n",
    "\n",
    "def password_check(x):\n",
    "    return bool(re.search('(?i)password check',x))\n",
    "\n",
    "def authentication_failure(x):\n",
    "    return bool(re.search('(?i)authentication (fail)',x))\n",
    "\n",
    "def failed_password(x):\n",
    "    return bool(re.search('(?i)(fail.*? password)',x))\n",
    "    "
   ]
  },
  {
   "cell_type": "code",
   "execution_count": 20,
   "metadata": {
    "collapsed": true
   },
   "outputs": [],
   "source": [
    "finalDF['Password_check']=finalDF['content'].apply(lambda x: password_check(x))\n",
    "finalDF['Authentication_failure']=finalDF['content'].apply(lambda x: authentication_failure(x))\n",
    "finalDF['Failed_password']=finalDF['content'].apply(lambda x: failed_password(x))\n"
   ]
  },
  {
   "cell_type": "code",
   "execution_count": 18,
   "metadata": {},
   "outputs": [],
   "source": [
    "#finalDF.head()"
   ]
  },
  {
   "cell_type": "markdown",
   "metadata": {},
   "source": [
    "## Types of Failures in system"
   ]
  },
  {
   "cell_type": "code",
   "execution_count": 21,
   "metadata": {},
   "outputs": [
    {
     "data": {
      "text/plain": [
       "Password_check                3\n",
       "Authentication_failure    43316\n",
       "Failed_password               3\n",
       "dtype: int64"
      ]
     },
     "execution_count": 21,
     "metadata": {},
     "output_type": "execute_result"
    }
   ],
   "source": [
    "#Types of Failures in system\n",
    "finalDF.select_dtypes(include=['bool']).sum()"
   ]
  },
  {
   "cell_type": "code",
   "execution_count": 22,
   "metadata": {
    "collapsed": true
   },
   "outputs": [],
   "source": [
    "#Convert None to False \n",
    "finalDF[[\"failure\",\"failed\",\"error\",\"invalid\",\"warn\",\"unregistered\"]]=finalDF[[\"failure\",\"failed\",\"error\",\"invalid\",\"warn\",\"unregistered\"]].applymap(lambda x: False if x is None else True)\n"
   ]
  },
  {
   "cell_type": "markdown",
   "metadata": {},
   "source": [
    "## Occurence of Words we searched manually "
   ]
  },
  {
   "cell_type": "code",
   "execution_count": 23,
   "metadata": {},
   "outputs": [
    {
     "data": {
      "text/plain": [
       "failure                   43316\n",
       "failed                       13\n",
       "error                        10\n",
       "invalid                   92532\n",
       "warn                          0\n",
       "unregistered                  0\n",
       "Password_check                3\n",
       "Authentication_failure    43316\n",
       "Failed_password               3\n",
       "dtype: int64"
      ]
     },
     "execution_count": 23,
     "metadata": {},
     "output_type": "execute_result"
    }
   ],
   "source": [
    "#Types of Failures in system\n",
    "finalDF.select_dtypes(include=['bool']).sum()"
   ]
  },
  {
   "cell_type": "markdown",
   "metadata": {},
   "source": [
    "Keeping Only String in each row for further analysis"
   ]
  },
  {
   "cell_type": "code",
   "execution_count": 25,
   "metadata": {},
   "outputs": [],
   "source": [
    "#Cleanup data for textual analysis\n",
    "#Remove Month\tDate\tTime\tFoldName\tOper\tUser from the data of each line\n",
    "#Then keep only character values and spaces as an alternative\n",
    "newregex=\"(\"+mnth_search + \")\\s+\\d+\\s+\\d+:\\d+:\\d+\\s+[^\\s]+\\s\\w+\\W+\\d+\\]:\"\n",
    "def keep_only_string(x):\n",
    "    only_string= re.sub(newregex,'', x)\n",
    "    only_string= re.sub('[^a-zA-Z //]',' ', only_string)\n",
    "    only_string=re.sub('\\s+',' ', only_string)\n",
    "    return only_string\n"
   ]
  },
  {
   "cell_type": "code",
   "execution_count": 26,
   "metadata": {
    "collapsed": true
   },
   "outputs": [],
   "source": [
    "finalDF['StringOnly']= finalDF['content'].apply(lambda x: keep_only_string(x))"
   ]
  },
  {
   "cell_type": "code",
   "execution_count": 28,
   "metadata": {},
   "outputs": [
    {
     "data": {
      "text/plain": [
       "' Apr sdsdssdfsfs fsfsfffrrr session opened for user sdsds by uid '"
      ]
     },
     "execution_count": 28,
     "metadata": {},
     "output_type": "execute_result"
    }
   ],
   "source": [
    "y=\"'Apr 15 03:40:10 sdsdssdfsfs: fsfsfffrrr): session opened for user sdsds by (uid=1111)'\"\n",
    "temp=re.sub(newregex,'', y)\n",
    "temp=re.sub('[^a-zA-Z //]',' ', temp)\n",
    "re.sub('\\s+',' ', temp)"
   ]
  },
  {
   "cell_type": "code",
   "execution_count": 29,
   "metadata": {
    "scrolled": true
   },
   "outputs": [
    {
     "data": {
      "text/plain": [
       "' pam unix sshd auth authentication failure logname uid euid tty ssh ruser rhost user svc slr scpt lab'"
      ]
     },
     "execution_count": 29,
     "metadata": {},
     "output_type": "execute_result"
    }
   ],
   "source": [
    "#Removeing stopwords\n",
    "stopwords=nltk.corpus.stopwords.words(\"english\")"
   ]
  },
  {
   "cell_type": "markdown",
   "metadata": {},
   "source": [
    "# Sentiment Analysis Based Findings"
   ]
  },
  {
   "cell_type": "code",
   "execution_count": 30,
   "metadata": {
    "collapsed": true
   },
   "outputs": [],
   "source": [
    "sent_neg_score=sentiment.SentimentIntensityAnalyzer()\n",
    "finalDF['NegScore']= finalDF['StringOnly'].apply(lambda x: sent_neg_score.polarity_scores(x)['neg'])"
   ]
  },
  {
   "cell_type": "code",
   "execution_count": 31,
   "metadata": {},
   "outputs": [
    {
     "data": {
      "image/png": "[encoded data removed]",
      "text/plain": [
       "<matplotlib.figure.Figure at 0x7fb4a145d150>"
      ]
     },
     "metadata": {},
     "output_type": "display_data"
    }
   ],
   "source": [
    "finalDF[finalDF.NegScore>0]['NegScore'].hist()\n",
    "plt.show()"
   ]
  },
  {
   "cell_type": "markdown",
   "metadata": {},
   "source": [
    "Scores Identified and their count"
   ]
  },
  {
   "cell_type": "code",
   "execution_count": 32,
   "metadata": {},
   "outputs": [
    {
     "data": {
      "text/plain": [
       "0.000    764004\n",
       "0.163     43240\n",
       "0.180        52\n",
       "0.093        18\n",
       "0.667        10\n",
       "0.191         5\n",
       "0.398         3\n",
       "0.355         3\n",
       "0.096         1\n",
       "Name: NegScore, dtype: int64"
      ]
     },
     "execution_count": 32,
     "metadata": {},
     "output_type": "execute_result"
    }
   ],
   "source": [
    "#Do word cloud???\n",
    "finalDF['NegScore'].value_counts()"
   ]
  },
  {
   "cell_type": "code",
   "execution_count": 449,
   "metadata": {},
   "outputs": [
    {
     "data": {
      "text/plain": [
       "'Apr 15 03:40:10 abc-he-orclgg03 sshd[12663]: pam_unix(sshd:auth): authentication failure; logname= uid=0 euid=0 tty=ssh ruser= rhost=10.253.228.58  user=svc_slr_scpt@lab'"
      ]
     },
     "execution_count": 449,
     "metadata": {},
     "output_type": "execute_result"
    }
   ],
   "source": [
    "finalDF[finalDF['NegScore']>0]['content'][2]"
   ]
  },
  {
   "cell_type": "markdown",
   "metadata": {},
   "source": [
    "Words and Their Count in the dataframe"
   ]
  },
  {
   "cell_type": "code",
   "execution_count": 162,
   "metadata": {},
   "outputs": [
    {
     "data": {
      "text/plain": [
       "failure                   43316\n",
       "failed                       13\n",
       "error                        10\n",
       "invalid                   92532\n",
       "warn                          0\n",
       "unregistered                  0\n",
       "Password_check                3\n",
       "Authentication_failure    43316\n",
       "Failed_password               3\n",
       "dtype: int64"
      ]
     },
     "execution_count": 162,
     "metadata": {},
     "output_type": "execute_result"
    }
   ],
   "source": [
    "finalDF.select_dtypes(include=['bool']).sum()"
   ]
  },
  {
   "cell_type": "code",
   "execution_count": 212,
   "metadata": {
    "collapsed": true
   },
   "outputs": [],
   "source": [
    "import time\n",
    "finalDF['Hour']=finalDF['Time'].apply(lambda x: time.strptime(x,\"%H:%M:%S\").tm_hour)"
   ]
  },
  {
   "cell_type": "markdown",
   "metadata": {},
   "source": [
    "How Does the data look Grouped by Critical words and Score.\n",
    "\n",
    "We see Invalid not beng given a negative score"
   ]
  },
  {
   "cell_type": "code",
   "execution_count": 255,
   "metadata": {},
   "outputs": [
    {
     "data": {
      "text/html": [
       "<div>\n",
       "<style>\n",
       "    .dataframe thead tr:only-child th {\n",
       "        text-align: right;\n",
       "    }\n",
       "\n",
       "    .dataframe thead th {\n",
       "        text-align: left;\n",
       "    }\n",
       "\n",
       "    .dataframe tbody tr th {\n",
       "        vertical-align: top;\n",
       "    }\n",
       "</style>\n",
       "<table border=\"1\" class=\"dataframe\">\n",
       "  <thead>\n",
       "    <tr style=\"text-align: right;\">\n",
       "      <th></th>\n",
       "      <th>Critical_Words</th>\n",
       "      <th>NegScore</th>\n",
       "      <th>folder</th>\n",
       "    </tr>\n",
       "  </thead>\n",
       "  <tbody>\n",
       "    <tr>\n",
       "      <th>0</th>\n",
       "      <td>()</td>\n",
       "      <td>0.000</td>\n",
       "      <td>671472</td>\n",
       "    </tr>\n",
       "    <tr>\n",
       "      <th>1</th>\n",
       "      <td>(Failed,)</td>\n",
       "      <td>0.355</td>\n",
       "      <td>3</td>\n",
       "    </tr>\n",
       "    <tr>\n",
       "      <th>2</th>\n",
       "      <td>(error, failed)</td>\n",
       "      <td>0.667</td>\n",
       "      <td>10</td>\n",
       "    </tr>\n",
       "    <tr>\n",
       "      <th>3</th>\n",
       "      <td>(failed,)</td>\n",
       "      <td>0.398</td>\n",
       "      <td>3</td>\n",
       "    </tr>\n",
       "    <tr>\n",
       "      <th>4</th>\n",
       "      <td>(failure,)</td>\n",
       "      <td>0.093</td>\n",
       "      <td>18</td>\n",
       "    </tr>\n",
       "    <tr>\n",
       "      <th>5</th>\n",
       "      <td>(failure,)</td>\n",
       "      <td>0.096</td>\n",
       "      <td>1</td>\n",
       "    </tr>\n",
       "    <tr>\n",
       "      <th>6</th>\n",
       "      <td>(failure,)</td>\n",
       "      <td>0.163</td>\n",
       "      <td>43240</td>\n",
       "    </tr>\n",
       "    <tr>\n",
       "      <th>7</th>\n",
       "      <td>(failure,)</td>\n",
       "      <td>0.180</td>\n",
       "      <td>52</td>\n",
       "    </tr>\n",
       "    <tr>\n",
       "      <th>8</th>\n",
       "      <td>(failure,)</td>\n",
       "      <td>0.191</td>\n",
       "      <td>5</td>\n",
       "    </tr>\n",
       "    <tr>\n",
       "      <th>9</th>\n",
       "      <td>(invalid,)</td>\n",
       "      <td>0.000</td>\n",
       "      <td>92532</td>\n",
       "    </tr>\n",
       "  </tbody>\n",
       "</table>\n",
       "</div>"
      ],
      "text/plain": [
       "    Critical_Words  NegScore  folder\n",
       "0               ()     0.000  671472\n",
       "1        (Failed,)     0.355       3\n",
       "2  (error, failed)     0.667      10\n",
       "3        (failed,)     0.398       3\n",
       "4       (failure,)     0.093      18\n",
       "5       (failure,)     0.096       1\n",
       "6       (failure,)     0.163   43240\n",
       "7       (failure,)     0.180      52\n",
       "8       (failure,)     0.191       5\n",
       "9       (invalid,)     0.000   92532"
      ]
     },
     "execution_count": 255,
     "metadata": {},
     "output_type": "execute_result"
    }
   ],
   "source": [
    "#finalDF.groupby(['Critical_Words','NegScore']).agg('count')\n",
    "temp=finalDF.copy()\n",
    "temp['Critical_Words'] = temp['Critical_Words'].apply(tuple)\n",
    "pd.DataFrame(temp.groupby(['Critical_Words','NegScore'])['folder'].agg('count').reset_index())\n",
    "\n",
    "#temp.head()"
   ]
  },
  {
   "cell_type": "code",
   "execution_count": 217,
   "metadata": {
    "collapsed": true
   },
   "outputs": [],
   "source": [
    "#temp[temp['NegScore']==0.191]\n",
    "finalDF['FoundNegScore'] = finalDF['NegScore'].apply(lambda x: 1 if x > 0 else 0)"
   ]
  },
  {
   "cell_type": "markdown",
   "metadata": {},
   "source": [
    "## Incident Occurences Over Time "
   ]
  },
  {
   "cell_type": "code",
   "execution_count": 540,
   "metadata": {},
   "outputs": [
    {
     "data": {
      "image/png": "[encoded data removed]",
      "text/plain": [
       "<matplotlib.figure.Figure at 0x7fe68a93e0d0>"
      ]
     },
     "metadata": {},
     "output_type": "display_data"
    },
    {
     "name": "stdout",
     "output_type": "stream",
     "text": [
      "Hour\n",
      "0     1602\n",
      "1     1609\n",
      "2     1591\n",
      "3     2037\n",
      "4     2408\n",
      "5     2404\n",
      "6     2407\n",
      "7     2397\n",
      "8     2448\n",
      "9     1930\n",
      "10    1591\n",
      "11    1609\n",
      "12    1612\n",
      "13    1613\n",
      "14    1605\n",
      "15    1621\n",
      "16    1600\n",
      "17    1603\n",
      "18    1604\n",
      "19    1612\n",
      "20    1610\n",
      "21    1610\n",
      "22    1601\n",
      "23    1608\n",
      "Name: FoundNegScore, dtype: int64\n"
     ]
    }
   ],
   "source": [
    "#Occurence of failure incidents by time (as invalid is  not capyured as negative score for now)\n",
    "\n",
    "finalDF.groupby('Hour')['FoundNegScore'].sum().plot(figsize = (10,5))\n",
    "plt.show()\n",
    "print finalDF.groupby('Hour')['FoundNegScore'].sum()"
   ]
  },
  {
   "cell_type": "markdown",
   "metadata": {},
   "source": [
    "## Count of a negative sentiment by User"
   ]
  },
  {
   "cell_type": "code",
   "execution_count": 253,
   "metadata": {},
   "outputs": [
    {
     "name": "stdout",
     "output_type": "stream",
     "text": [
      "User\n",
      "svc_slr_scpt@lab    43240\n",
      "errobi                 71\n",
      "mapr                    5\n",
      "(mapr)                  3\n",
      "uemm                    0\n",
      "solarmntr               0\n",
      "root                    0\n",
      "oracle                  0\n",
      "not                     0\n",
      "hawkeye                 0\n",
      "femm                    0\n",
      "edghhjf                 0\n",
      "Name: FoundNegScore, dtype: int64\n"
     ]
    },
    {
     "data": {
      "image/png": "[encoded data removed]",
      "text/plain": [
       "<matplotlib.figure.Figure at 0x7fe6622a6b10>"
      ]
     },
     "metadata": {},
     "output_type": "display_data"
    }
   ],
   "source": [
    "#Negative Score by User\n",
    "print finalDF.groupby('User')['FoundNegScore'].sum().sort_values(ascending=False)\n",
    "finalDF.groupby('User')['FoundNegScore'].sum().sort_values(ascending=False).plot(figsize=(15,6))\n",
    "plt.show()\n"
   ]
  },
  {
   "cell_type": "code",
   "execution_count": 260,
   "metadata": {
    "collapsed": true
   },
   "outputs": [],
   "source": [
    "finalDF[['folder','Mon_Day_Time','content','StringOnly']].to_csv(\"tempdummy.csv\")"
   ]
  },
  {
   "cell_type": "code",
   "execution_count": 271,
   "metadata": {
    "collapsed": true
   },
   "outputs": [],
   "source": [
    "from nltk.corpus import words as english\n",
    "#nltk.download()\n",
    "nltk.download('words')\n",
    "nltk.download('stopwords')"
   ]
  },
  {
   "cell_type": "code",
   "execution_count": 346,
   "metadata": {},
   "outputs": [
    {
     "data": {
      "text/plain": [
       "u'warning'"
      ]
     },
     "execution_count": 346,
     "metadata": {},
     "output_type": "execute_result"
    }
   ],
   "source": [
    "#wordnet.words().__contains__(\"failed\")\n",
    "#wn.synset('fails')\n",
    "#wn.lemma('fails')\n",
    "#acknowledgment_synset\n",
    "k=[w for w in wn.words()]\n",
    "syn = wn.synsets('warnings')[0]\n",
    "lemmas = syn.lemmas()\n",
    "lemmas[0].name()\n",
    "\n",
    "wn.synsets('warnings')[0].lemmas()[0].name()"
   ]
  },
  {
   "cell_type": "code",
   "execution_count": 369,
   "metadata": {
    "collapsed": true
   },
   "outputs": [],
   "source": [
    "wordnet_words=[w for w in wn.words()]"
   ]
  },
  {
   "cell_type": "code",
   "execution_count": 372,
   "metadata": {
    "collapsed": true
   },
   "outputs": [],
   "source": [
    "vocab = set(w.lower() for w in english.words())\n",
    "manywords = words.words() + wordnet_words\n",
    "stp_wrds=set(w.lower() for w in stopwords)"
   ]
  },
  {
   "cell_type": "code",
   "execution_count": 378,
   "metadata": {},
   "outputs": [
    {
     "name": "stdout",
     "output_type": "stream",
     "text": [
      "['Arthur', 'fails', \"n't\", 'failed', '123', 'feel', 'warn', 'warn', 'good']\n",
      "['Arthur', 'feel', 'warn', 'warn', 'good']\n"
     ]
    }
   ],
   "source": [
    "sentence=\"Arthur fails didn't failed  123 feel a very warn warn good\"\n",
    "tokens = nltk.word_tokenize(sentence)\n",
    "k=[item for item in tokens if item not in stp_wrds]\n",
    "print k\n",
    "v=[item for item in k if item in manywords]\n",
    "print v\n",
    "#' '.join(v)\n"
   ]
  },
  {
   "cell_type": "code",
   "execution_count": 436,
   "metadata": {
    "collapsed": true
   },
   "outputs": [],
   "source": [
    "#stemmer = SnowballStemmer(\"english\")\n",
    "\n",
    "lemmatizer = WordNetLemmatizer()\n",
    "\n",
    "def stpwrds_lemma(sent):\n",
    "    tokens = nltk.word_tokenize(sent)\n",
    "    cleandata=[item for item in tokens if item not in stp_wrds]\n",
    "    #print cleandata\n",
    "    lemmatokens= [ lemmatizer.lemmatize(item) for item in cleandata]\n",
    "    #print lemmatokens\n",
    "    #Removing as vocab des not contians words like \"accepted\", \"failed\"\n",
    "    #vocabdata=[item for item in stemtokens if item in vocab]\n",
    "    #print vocabdata\n",
    "    #temp=' '.join(vocabdata)\n",
    "    temp=' '.join(lemmatokens)\n",
    "    return temp\n",
    "    "
   ]
  },
  {
   "cell_type": "code",
   "execution_count": 424,
   "metadata": {},
   "outputs": [
    {
     "name": "stdout",
     "output_type": "stream",
     "text": [
      "Accpeted\n"
     ]
    }
   ],
   "source": [
    "print(lemmatizer.lemmatize(\"Accpeted\"))"
   ]
  },
  {
   "cell_type": "code",
   "execution_count": 465,
   "metadata": {},
   "outputs": [
    {
     "data": {
      "text/plain": [
       "Index([u'folder', u'content', u'Mon_Day_Time', u'Month', u'Date', u'Time',\n",
       "       u'FoldName', u'Oper', u'User', u'Critical_Words', u'failure', u'failed',\n",
       "       u'error', u'invalid', u'warn', u'unregistered', u'Password_check',\n",
       "       u'Authentication_failure', u'Failed_password', u'StringOnly',\n",
       "       u'NegScore', u'Hour', u'FoundNegScore', u'StringOnly_Lemma_StpWord'],\n",
       "      dtype='object')"
      ]
     },
     "execution_count": 465,
     "metadata": {},
     "output_type": "execute_result"
    }
   ],
   "source": [
    "finalDF.columns"
   ]
  },
  {
   "cell_type": "code",
   "execution_count": 437,
   "metadata": {
    "collapsed": true
   },
   "outputs": [],
   "source": [
    "finalDF['StringOnly_Lemma_StpWord']=finalDF['StringOnly'].apply(lambda x: stpwrds_lemma(x))"
   ]
  },
  {
   "cell_type": "code",
   "execution_count": 539,
   "metadata": {},
   "outputs": [
    {
     "data": {
      "text/html": [
       "<div>\n",
       "<style>\n",
       "    .dataframe thead tr:only-child th {\n",
       "        text-align: right;\n",
       "    }\n",
       "\n",
       "    .dataframe thead th {\n",
       "        text-align: left;\n",
       "    }\n",
       "\n",
       "    .dataframe tbody tr th {\n",
       "        vertical-align: top;\n",
       "    }\n",
       "</style>\n",
       "<table border=\"1\" class=\"dataframe\">\n",
       "  <thead>\n",
       "    <tr style=\"text-align: right;\">\n",
       "      <th></th>\n",
       "      <th>index</th>\n",
       "      <th>content</th>\n",
       "      <th>NegScore</th>\n",
       "    </tr>\n",
       "  </thead>\n",
       "  <tbody>\n",
       "    <tr>\n",
       "      <th>0</th>\n",
       "      <td>102351</td>\n",
       "      <td>Apr 16 15:32:43 abc-he-hunk unix_chkpwd[62170]...</td>\n",
       "      <td>0.398</td>\n",
       "    </tr>\n",
       "    <tr>\n",
       "      <th>1</th>\n",
       "      <td>102355</td>\n",
       "      <td>Apr 16 15:32:45 abc-he-hunk sshd[62144]: Faile...</td>\n",
       "      <td>0.355</td>\n",
       "    </tr>\n",
       "    <tr>\n",
       "      <th>2</th>\n",
       "      <td>102356</td>\n",
       "      <td>Apr 16 15:32:50 abc-he-hunk unix_chkpwd[62196]...</td>\n",
       "      <td>0.398</td>\n",
       "    </tr>\n",
       "    <tr>\n",
       "      <th>3</th>\n",
       "      <td>102359</td>\n",
       "      <td>Apr 16 15:32:53 abc-he-hunk sshd[62144]: Faile...</td>\n",
       "      <td>0.355</td>\n",
       "    </tr>\n",
       "    <tr>\n",
       "      <th>4</th>\n",
       "      <td>105002</td>\n",
       "      <td>Apr 16 20:37:31 abc-he-hunk sshd[19924]: error...</td>\n",
       "      <td>0.667</td>\n",
       "    </tr>\n",
       "    <tr>\n",
       "      <th>5</th>\n",
       "      <td>105003</td>\n",
       "      <td>Apr 16 20:37:31 abc-he-hunk sshd[19924]: error...</td>\n",
       "      <td>0.667</td>\n",
       "    </tr>\n",
       "    <tr>\n",
       "      <th>6</th>\n",
       "      <td>105004</td>\n",
       "      <td>Apr 16 20:37:31 abc-he-hunk sshd[19924]: error...</td>\n",
       "      <td>0.667</td>\n",
       "    </tr>\n",
       "    <tr>\n",
       "      <th>7</th>\n",
       "      <td>105005</td>\n",
       "      <td>Apr 16 20:37:31 abc-he-hunk sshd[19924]: error...</td>\n",
       "      <td>0.667</td>\n",
       "    </tr>\n",
       "    <tr>\n",
       "      <th>8</th>\n",
       "      <td>105006</td>\n",
       "      <td>Apr 16 20:37:31 abc-he-hunk sshd[19924]: error...</td>\n",
       "      <td>0.667</td>\n",
       "    </tr>\n",
       "    <tr>\n",
       "      <th>9</th>\n",
       "      <td>105007</td>\n",
       "      <td>Apr 16 20:37:32 abc-he-hunk sshd[19924]: error...</td>\n",
       "      <td>0.667</td>\n",
       "    </tr>\n",
       "    <tr>\n",
       "      <th>10</th>\n",
       "      <td>105008</td>\n",
       "      <td>Apr 16 20:37:32 abc-he-hunk sshd[19924]: error...</td>\n",
       "      <td>0.667</td>\n",
       "    </tr>\n",
       "    <tr>\n",
       "      <th>11</th>\n",
       "      <td>105009</td>\n",
       "      <td>Apr 16 20:37:32 abc-he-hunk sshd[19924]: error...</td>\n",
       "      <td>0.667</td>\n",
       "    </tr>\n",
       "    <tr>\n",
       "      <th>12</th>\n",
       "      <td>105010</td>\n",
       "      <td>Apr 16 20:37:32 abc-he-hunk sshd[19924]: error...</td>\n",
       "      <td>0.667</td>\n",
       "    </tr>\n",
       "    <tr>\n",
       "      <th>13</th>\n",
       "      <td>105011</td>\n",
       "      <td>Apr 16 20:37:32 abc-he-hunk sshd[19924]: error...</td>\n",
       "      <td>0.667</td>\n",
       "    </tr>\n",
       "    <tr>\n",
       "      <th>14</th>\n",
       "      <td>663025</td>\n",
       "      <td>Apr 16 08:05:27 abc-he-mapr02 unix_chkpwd[1551...</td>\n",
       "      <td>0.398</td>\n",
       "    </tr>\n",
       "    <tr>\n",
       "      <th>15</th>\n",
       "      <td>663029</td>\n",
       "      <td>Apr 16 08:05:29 abc-he-mapr02 sshd[15503]: Fai...</td>\n",
       "      <td>0.355</td>\n",
       "    </tr>\n",
       "  </tbody>\n",
       "</table>\n",
       "</div>"
      ],
      "text/plain": [
       "     index                                            content  NegScore\n",
       "0   102351  Apr 16 15:32:43 abc-he-hunk unix_chkpwd[62170]...     0.398\n",
       "1   102355  Apr 16 15:32:45 abc-he-hunk sshd[62144]: Faile...     0.355\n",
       "2   102356  Apr 16 15:32:50 abc-he-hunk unix_chkpwd[62196]...     0.398\n",
       "3   102359  Apr 16 15:32:53 abc-he-hunk sshd[62144]: Faile...     0.355\n",
       "4   105002  Apr 16 20:37:31 abc-he-hunk sshd[19924]: error...     0.667\n",
       "5   105003  Apr 16 20:37:31 abc-he-hunk sshd[19924]: error...     0.667\n",
       "6   105004  Apr 16 20:37:31 abc-he-hunk sshd[19924]: error...     0.667\n",
       "7   105005  Apr 16 20:37:31 abc-he-hunk sshd[19924]: error...     0.667\n",
       "8   105006  Apr 16 20:37:31 abc-he-hunk sshd[19924]: error...     0.667\n",
       "9   105007  Apr 16 20:37:32 abc-he-hunk sshd[19924]: error...     0.667\n",
       "10  105008  Apr 16 20:37:32 abc-he-hunk sshd[19924]: error...     0.667\n",
       "11  105009  Apr 16 20:37:32 abc-he-hunk sshd[19924]: error...     0.667\n",
       "12  105010  Apr 16 20:37:32 abc-he-hunk sshd[19924]: error...     0.667\n",
       "13  105011  Apr 16 20:37:32 abc-he-hunk sshd[19924]: error...     0.667\n",
       "14  663025  Apr 16 08:05:27 abc-he-mapr02 unix_chkpwd[1551...     0.398\n",
       "15  663029  Apr 16 08:05:29 abc-he-mapr02 sshd[15503]: Fai...     0.355"
      ]
     },
     "execution_count": 539,
     "metadata": {},
     "output_type": "execute_result"
    }
   ],
   "source": [
    "# Find sentrnces with 0 , medium and high negative scores\n",
    "pd.set_option('display.expand_frame_repr', False)\n",
    "#finalDF[finalDF['NegScore']==0]['content'][10099]\n",
    "temp=finalDF[finalDF['NegScore']>0.35][['content','NegScore']].reset_index()\n",
    "temp#['content'][3232]"
   ]
  }
 ],
 "metadata": {
  "kernelspec": {
   "display_name": "Python 2",
   "language": "python",
   "name": "python2"
  },
  "language_info": {
   "codemirror_mode": {
    "name": "ipython",
    "version": 2
   },
   "file_extension": ".py",
   "mimetype": "text/x-python",
   "name": "python",
   "nbconvert_exporter": "python",
   "pygments_lexer": "ipython2",
   "version": "2.7.14"
  }
 },
 "nbformat": 4,
 "nbformat_minor": 2
}
